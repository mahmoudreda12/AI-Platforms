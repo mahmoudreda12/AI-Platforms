{
  "cells": [
    {
      "cell_type": "code",
      "execution_count": 1,
      "metadata": {
        "id": "_LI4INchRTZe"
      },
      "outputs": [],
      "source": [
        "import torch\n",
        "import torch.nn as nn\n",
        "import torch.nn.functional as F\n",
        "from torch.optim import SGD\n",
        "\n",
        "import matplotlib.pyplot as plt\n",
        "import seaborn as sns"
      ]
    },
    {
      "cell_type": "code",
      "execution_count": 2,
      "metadata": {
        "id": "gP50fwaBY5Tp"
      },
      "outputs": [],
      "source": [
        "class MohamedNN(nn.Module):\n",
        "    def __init__(self):\n",
        "        super().__init__()\n",
        "        self.w00 = nn.Parameter(torch.tensor(1.1), requires_grad=False)\n",
        "        self.b00 = nn.Parameter(torch.tensor(-0.5), requires_grad=False)\n",
        "\n",
        "        self.w01 = nn.Parameter(torch.tensor(0.6), requires_grad=False)\n",
        "        self.b01 = nn.Parameter(torch.tensor(-1.5), requires_grad=False)\n",
        "\n",
        "        self.w02 = nn.Parameter(torch.tensor(0.5), requires_grad=False)\n",
        "        self.b02 = nn.Parameter(torch.tensor(0.65), requires_grad=False)\n",
        "\n",
        "        self.w11 = nn.Parameter(torch.tensor(1.55), requires_grad=False)\n",
        "        self.w12 = nn.Parameter(torch.tensor(-0.7), requires_grad=False)\n",
        "        self.w13 = nn.Parameter(torch.tensor(1.22), requires_grad=False)\n",
        "\n",
        "        self.w20 = nn.Parameter(torch.tensor(1.6), requires_grad=False)\n",
        "\n",
        "    def forward(self, input):\n",
        "        input_to_layer_01 = input * self.w00 + self.b00\n",
        "        layer_01_output = F.relu(input_to_layer_01)\n",
        "        layer_01_output = layer_01_output * self.w11\n",
        "\n",
        "        input_to_layer_02 = input * self.w01 + self.b01\n",
        "        layer_02_output = F.relu(input_to_layer_02)\n",
        "        layer_02_output = layer_02_output * self.w12\n",
        "\n",
        "        input_to_layer_03 = input * self.w02 + self.b02\n",
        "        layer_03_output = F.relu(input_to_layer_03)\n",
        "        layer_03_output = layer_03_output * self.w13\n",
        "\n",
        "        output = layer_01_output + layer_02_output + layer_03_output\n",
        "\n",
        "        output = F.tanh(output)\n",
        "        output = output * self.w20\n",
        "        return output\n",
        "\n",
        "\n",
        "\n"
      ]
    },
    {
      "cell_type": "code",
      "execution_count": 3,
      "metadata": {
        "id": "k6sIZtmKeoT_"
      },
      "outputs": [],
      "source": [
        "my_model = MohamedNN()"
      ]
    },
    {
      "cell_type": "code",
      "execution_count": 4,
      "metadata": {
        "colab": {
          "base_uri": "https://localhost:8080/"
        },
        "id": "9z4_z5mYewtw",
        "outputId": "3ce3184e-169e-4ef0-8db6-7ddc7b1a5530"
      },
      "outputs": [
        {
          "data": {
            "text/plain": [
              "tensor([1.0000, 1.0385, 1.0769, 1.1154, 1.1538, 1.1923, 1.2308, 1.2692, 1.3077,\n",
              "        1.3462, 1.3846, 1.4231, 1.4615, 1.5000, 1.5385, 1.5769, 1.6154, 1.6538,\n",
              "        1.6923, 1.7308, 1.7692, 1.8077, 1.8462, 1.8846, 1.9231, 1.9615, 2.0000,\n",
              "        2.0385, 2.0769, 2.1154, 2.1538, 2.1923, 2.2308, 2.2692, 2.3077, 2.3462,\n",
              "        2.3846, 2.4231, 2.4615, 2.5000])"
            ]
          },
          "execution_count": 4,
          "metadata": {},
          "output_type": "execute_result"
        }
      ],
      "source": [
        "X = torch.linspace(start=1, end=2.5, steps=40)\n",
        "X"
      ]
    },
    {
      "cell_type": "code",
      "execution_count": 5,
      "metadata": {
        "colab": {
          "base_uri": "https://localhost:8080/"
        },
        "id": "8AQNdDNdfIrY",
        "outputId": "77328c62-c670-427c-a29c-fe608ffdc993"
      },
      "outputs": [
        {
          "data": {
            "text/plain": [
              "tensor([1.5702, 1.5750, 1.5790, 1.5824, 1.5853, 1.5877, 1.5897, 1.5914, 1.5928,\n",
              "        1.5939, 1.5949, 1.5958, 1.5965, 1.5970, 1.5975, 1.5979, 1.5983, 1.5985,\n",
              "        1.5988, 1.5990, 1.5991, 1.5993, 1.5994, 1.5995, 1.5996, 1.5996, 1.5997,\n",
              "        1.5998, 1.5998, 1.5998, 1.5999, 1.5999, 1.5999, 1.5999, 1.5999, 1.5999,\n",
              "        1.6000, 1.6000, 1.6000, 1.6000])"
            ]
          },
          "execution_count": 5,
          "metadata": {},
          "output_type": "execute_result"
        }
      ],
      "source": [
        "Y = my_model(X)\n",
        "Y"
      ]
    },
    {
      "cell_type": "code",
      "execution_count": 6,
      "metadata": {
        "colab": {
          "base_uri": "https://localhost:8080/",
          "height": 475
        },
        "id": "2p3agH02fS8y",
        "outputId": "c42df7da-5d1b-408a-8d9f-a894b52b4f42"
      },
      "outputs": [
        {
          "data": {
            "text/plain": [
              "Text(0, 0.5, 'Y')"
            ]
          },
          "execution_count": 6,
          "metadata": {},
          "output_type": "execute_result"
        },
        {
          "data": {
            "image/png": "[encoded data removed]",
            "text/plain": [
              "<Figure size 640x480 with 1 Axes>"
            ]
          },
          "metadata": {},
          "output_type": "display_data"
        }
      ],
      "source": [
        "sns.set(style=\"whitegrid\")\n",
        "\n",
        "sns.lineplot(\n",
        "    x=X,\n",
        "    y=Y,\n",
        "    color='red',\n",
        "    linewidth=3\n",
        ")\n",
        "\n",
        "\n",
        "plt.xlabel('X')\n",
        "plt.ylabel('Y')"
      ]
    },
    {
      "cell_type": "code",
      "execution_count": 7,
      "metadata": {
        "id": "KqYZFWFCgAgb"
      },
      "outputs": [],
      "source": [
        "class AbbasNN(nn.Module):\n",
        "    def __init__(self):\n",
        "        super().__init__()\n",
        "        self.w00 = nn.Parameter(torch.tensor(0.0), requires_grad=True)\n",
        "        self.b00 = nn.Parameter(torch.tensor(-0.5), requires_grad=False)\n",
        "\n",
        "        self.w01 = nn.Parameter(torch.tensor(0.6), requires_grad=False)\n",
        "        self.b01 = nn.Parameter(torch.tensor(-1.5), requires_grad=False)\n",
        "\n",
        "        self.w02 = nn.Parameter(torch.tensor(0.0), requires_grad=True)\n",
        "        self.b02 = nn.Parameter(torch.tensor(0.65), requires_grad=False)\n",
        "\n",
        "        self.w11 = nn.Parameter(torch.tensor(1.55), requires_grad=False)\n",
        "        self.w12 = nn.Parameter(torch.tensor(-0.7), requires_grad=False)\n",
        "        self.w13 = nn.Parameter(torch.tensor(1.22), requires_grad=False)\n",
        "\n",
        "        self.w20 = nn.Parameter(torch.tensor(0.0), requires_grad=True)\n",
        "\n",
        "    def forward(self, input):\n",
        "        input_to_layer_01 = input * self.w00 + self.b00\n",
        "        layer_01_output = F.relu(input_to_layer_01)\n",
        "        layer_01_output = layer_01_output * self.w11\n",
        "\n",
        "        input_to_layer_02 = input * self.w01 + self.b01\n",
        "        layer_02_output = F.relu(input_to_layer_02)\n",
        "        layer_02_output = layer_02_output * self.w12\n",
        "\n",
        "        input_to_layer_03 = input * self.w02 + self.b02\n",
        "        layer_03_output = F.relu(input_to_layer_03)\n",
        "        layer_03_output = layer_03_output * self.w13\n",
        "\n",
        "        output = layer_01_output + layer_02_output + layer_03_output\n",
        "\n",
        "        output = F.tanh(output)\n",
        "        output = output * self.w20\n",
        "        return output"
      ]
    },
    {
      "cell_type": "code",
      "execution_count": 8,
      "metadata": {
        "id": "xh8wwTPPg5b8"
      },
      "outputs": [],
      "source": [
        "abbasNN = AbbasNN()"
      ]
    },
    {
      "cell_type": "code",
      "execution_count": 9,
      "metadata": {
        "id": "EKBe4kYmhP7y"
      },
      "outputs": [],
      "source": [
        "newY=abbasNN(X)"
      ]
    },
    {
      "cell_type": "code",
      "execution_count": 10,
      "metadata": {
        "colab": {
          "base_uri": "https://localhost:8080/"
        },
        "id": "-AjvN_aKhXoV",
        "outputId": "f94733e2-501d-4086-8874-fb80c2419eba"
      },
      "outputs": [
        {
          "data": {
            "text/plain": [
              "tensor([0., 0., 0., 0., 0., 0., 0., 0., 0., 0., 0., 0., 0., 0., 0., 0., 0., 0., 0., 0., 0., 0., 0., 0.,\n",
              "        0., 0., 0., 0., 0., 0., 0., 0., 0., 0., 0., 0., 0., 0., 0., 0.],\n",
              "       grad_fn=<MulBackward0>)"
            ]
          },
          "execution_count": 10,
          "metadata": {},
          "output_type": "execute_result"
        }
      ],
      "source": [
        "newY"
      ]
    },
    {
      "cell_type": "code",
      "execution_count": 11,
      "metadata": {
        "colab": {
          "base_uri": "https://localhost:8080/",
          "height": 475
        },
        "id": "5e1jhV8zhZgn",
        "outputId": "a5fe45e0-3b70-4681-8440-0fdd37496865"
      },
      "outputs": [
        {
          "data": {
            "text/plain": [
              "Text(0, 0.5, 'Y')"
            ]
          },
          "execution_count": 11,
          "metadata": {},
          "output_type": "execute_result"
        },
        {
          "data": {
            "image/png": "[encoded data removed]",
            "text/plain": [
              "<Figure size 640x480 with 1 Axes>"
            ]
          },
          "metadata": {},
          "output_type": "display_data"
        }
      ],
      "source": [
        "sns.set(style=\"whitegrid\")\n",
        "\n",
        "sns.lineplot(\n",
        "    x=X,\n",
        "    y=newY.detach(),\n",
        "    color='red',\n",
        "    linewidth=3\n",
        ")\n",
        "\n",
        "\n",
        "plt.xlabel('X')\n",
        "plt.ylabel('Y')"
      ]
    },
    {
      "cell_type": "code",
      "execution_count": 12,
      "metadata": {
        "id": "r6FK_K2Ehzi4"
      },
      "outputs": [],
      "source": [
        "optimizer = SGD(abbasNN.parameters(), lr=0.01)\n",
        "loss = nn.MSELoss()"
      ]
    },
    {
      "cell_type": "code",
      "execution_count": 13,
      "metadata": {
        "colab": {
          "base_uri": "https://localhost:8080/"
        },
        "id": "esJ2KVMtie8G",
        "outputId": "5c7414c6-34f2-436b-97e9-106111b24e3d"
      },
      "outputs": [
        {
          "name": "stdout",
          "output_type": "stream",
          "text": [
            "Epoch:  0  | Total Loss:  tensor(101.8158, grad_fn=<AddBackward0>)\n",
            "Epoch:  1  | Total Loss:  tensor(43.2051, grad_fn=<AddBackward0>)\n",
            "Epoch:  2  | Total Loss:  tensor(2.0587, grad_fn=<AddBackward0>)\n",
            "Epoch:  3  | Total Loss:  tensor(0.1080, grad_fn=<AddBackward0>)\n",
            "Epoch:  4  | Total Loss:  tensor(0.0130, grad_fn=<AddBackward0>)\n",
            "Epoch:  5  | Total Loss:  tensor(0.0084, grad_fn=<AddBackward0>)\n",
            "Epoch:  6  | Total Loss:  tensor(0.0082, grad_fn=<AddBackward0>)\n",
            "Epoch:  7  | Total Loss:  tensor(0.0081, grad_fn=<AddBackward0>)\n",
            "Epoch:  8  | Total Loss:  tensor(0.0081, grad_fn=<AddBackward0>)\n",
            "Epoch:  9  | Total Loss:  tensor(0.0080, grad_fn=<AddBackward0>)\n",
            "Epoch:  10  | Total Loss:  tensor(0.0080, grad_fn=<AddBackward0>)\n",
            "Epoch:  11  | Total Loss:  tensor(0.0080, grad_fn=<AddBackward0>)\n",
            "Epoch:  12  | Total Loss:  tensor(0.0080, grad_fn=<AddBackward0>)\n",
            "Epoch:  13  | Total Loss:  tensor(0.0079, grad_fn=<AddBackward0>)\n",
            "Epoch:  14  | Total Loss:  tensor(0.0079, grad_fn=<AddBackward0>)\n",
            "Epoch:  15  | Total Loss:  tensor(0.0079, grad_fn=<AddBackward0>)\n",
            "Epoch:  16  | Total Loss:  tensor(0.0078, grad_fn=<AddBackward0>)\n",
            "Epoch:  17  | Total Loss:  tensor(0.0078, grad_fn=<AddBackward0>)\n",
            "Epoch:  18  | Total Loss:  tensor(0.0078, grad_fn=<AddBackward0>)\n",
            "Epoch:  19  | Total Loss:  tensor(0.0077, grad_fn=<AddBackward0>)\n",
            "Epoch:  20  | Total Loss:  tensor(0.0077, grad_fn=<AddBackward0>)\n",
            "Epoch:  21  | Total Loss:  tensor(0.0077, grad_fn=<AddBackward0>)\n",
            "Epoch:  22  | Total Loss:  tensor(0.0076, grad_fn=<AddBackward0>)\n",
            "Epoch:  23  | Total Loss:  tensor(0.0076, grad_fn=<AddBackward0>)\n",
            "Epoch:  24  | Total Loss:  tensor(0.0076, grad_fn=<AddBackward0>)\n",
            "Epoch:  25  | Total Loss:  tensor(0.0075, grad_fn=<AddBackward0>)\n",
            "Epoch:  26  | Total Loss:  tensor(0.0075, grad_fn=<AddBackward0>)\n",
            "Epoch:  27  | Total Loss:  tensor(0.0075, grad_fn=<AddBackward0>)\n",
            "Epoch:  28  | Total Loss:  tensor(0.0075, grad_fn=<AddBackward0>)\n",
            "Epoch:  29  | Total Loss:  tensor(0.0074, grad_fn=<AddBackward0>)\n",
            "Epoch:  30  | Total Loss:  tensor(0.0074, grad_fn=<AddBackward0>)\n",
            "Epoch:  31  | Total Loss:  tensor(0.0074, grad_fn=<AddBackward0>)\n",
            "Epoch:  32  | Total Loss:  tensor(0.0073, grad_fn=<AddBackward0>)\n",
            "Epoch:  33  | Total Loss:  tensor(0.0073, grad_fn=<AddBackward0>)\n",
            "Epoch:  34  | Total Loss:  tensor(0.0073, grad_fn=<AddBackward0>)\n",
            "Epoch:  35  | Total Loss:  tensor(0.0073, grad_fn=<AddBackward0>)\n",
            "Epoch:  36  | Total Loss:  tensor(0.0072, grad_fn=<AddBackward0>)\n",
            "Epoch:  37  | Total Loss:  tensor(0.0072, grad_fn=<AddBackward0>)\n",
            "Epoch:  38  | Total Loss:  tensor(0.0072, grad_fn=<AddBackward0>)\n",
            "Epoch:  39  | Total Loss:  tensor(0.0072, grad_fn=<AddBackward0>)\n",
            "Epoch:  40  | Total Loss:  tensor(0.0071, grad_fn=<AddBackward0>)\n",
            "Epoch:  41  | Total Loss:  tensor(0.0071, grad_fn=<AddBackward0>)\n",
            "Epoch:  42  | Total Loss:  tensor(0.0071, grad_fn=<AddBackward0>)\n",
            "Epoch:  43  | Total Loss:  tensor(0.0070, grad_fn=<AddBackward0>)\n",
            "Epoch:  44  | Total Loss:  tensor(0.0070, grad_fn=<AddBackward0>)\n",
            "Epoch:  45  | Total Loss:  tensor(0.0070, grad_fn=<AddBackward0>)\n",
            "Epoch:  46  | Total Loss:  tensor(0.0070, grad_fn=<AddBackward0>)\n",
            "Epoch:  47  | Total Loss:  tensor(0.0069, grad_fn=<AddBackward0>)\n",
            "Epoch:  48  | Total Loss:  tensor(0.0069, grad_fn=<AddBackward0>)\n",
            "Epoch:  49  | Total Loss:  tensor(0.0069, grad_fn=<AddBackward0>)\n"
          ]
        }
      ],
      "source": [
        "for epoch in range(50):\n",
        "    total_loss = 0\n",
        "\n",
        "    for i in range(len(X)):\n",
        "        input_i = X[i]\n",
        "        actual_output_i = Y[i]\n",
        "\n",
        "        pred_output_i = abbasNN(input_i)\n",
        "\n",
        "        loss_value = loss(pred_output_i, actual_output_i)\n",
        "\n",
        "        loss_value.backward()\n",
        "\n",
        "        total_loss += loss_value\n",
        "\n",
        "    print('Epoch: ', epoch, ' | Total Loss: ', total_loss)\n",
        "    optimizer.step()\n",
        "    optimizer.zero_grad()\n",
        "\n"
      ]
    },
    {
      "cell_type": "code",
      "execution_count": 14,
      "metadata": {
        "colab": {
          "base_uri": "https://localhost:8080/"
        },
        "id": "DKTxJyOMkF-r",
        "outputId": "a275ec68-25bb-47a8-f2e2-6f84e3452a7e"
      },
      "outputs": [
        {
          "data": {
            "text/plain": [
              "tensor([1.5438, 1.5496, 1.5550, 1.5599, 1.5645, 1.5687, 1.5726, 1.5761, 1.5794,\n",
              "        1.5825, 1.5853, 1.5879, 1.5902, 1.5924, 1.5944, 1.5963, 1.5980, 1.5996,\n",
              "        1.6010, 1.6024, 1.6036, 1.6047, 1.6058, 1.6068, 1.6076, 1.6085, 1.6092,\n",
              "        1.6099, 1.6105, 1.6111, 1.6116, 1.6121, 1.6126, 1.6130, 1.6134, 1.6138,\n",
              "        1.6141, 1.6144, 1.6147, 1.6149], grad_fn=<MulBackward0>)"
            ]
          },
          "execution_count": 14,
          "metadata": {},
          "output_type": "execute_result"
        }
      ],
      "source": [
        "pred_y = abbasNN(X)\n",
        "pred_y"
      ]
    },
    {
      "cell_type": "code",
      "execution_count": 15,
      "metadata": {
        "colab": {
          "base_uri": "https://localhost:8080/",
          "height": 475
        },
        "id": "eCqnctFAlKj-",
        "outputId": "d506ebfa-df38-4a6b-b0ac-c95a4a2dfa97"
      },
      "outputs": [
        {
          "data": {
            "text/plain": [
              "Text(0, 0.5, 'Y')"
            ]
          },
          "execution_count": 15,
          "metadata": {},
          "output_type": "execute_result"
        },
        {
          "data": {
            "image/png": "[encoded data removed]",
            "text/plain": [
              "<Figure size 640x480 with 1 Axes>"
            ]
          },
          "metadata": {},
          "output_type": "display_data"
        }
      ],
      "source": [
        "sns.set(style=\"whitegrid\")\n",
        "\n",
        "sns.lineplot(\n",
        "    x=X,\n",
        "    y=pred_y.detach(),\n",
        "    color='red',\n",
        "    linewidth=3\n",
        ")\n",
        "\n",
        "\n",
        "plt.xlabel('X')\n",
        "plt.ylabel('Y')"
      ]
    },
    {
      "cell_type": "code",
      "execution_count": null,
      "metadata": {
        "id": "xRTwv0zJldMl"
      },
      "outputs": [],
      "source": []
    }
  ],
  "metadata": {
    "colab": {
      "provenance": []
    },
    "kernelspec": {
      "display_name": "Python 3",
      "name": "python3"
    },
    "language_info": {
      "codemirror_mode": {
        "name": "ipython",
        "version": 3
      },
      "file_extension": ".py",
      "mimetype": "text/x-python",
      "name": "python",
      "nbconvert_exporter": "python",
      "pygments_lexer": "ipython3",
      "version": "3.12.3"
    }
  },
  "nbformat": 4,
  "nbformat_minor": 0
}
